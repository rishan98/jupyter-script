{
 "cells": [
  {
   "cell_type": "code",
   "execution_count": null,
   "id": "464d4bf4-1fd8-403b-ba6e-f0e77ba7fe11",
   "metadata": {},
   "outputs": [],
   "source": [
    "import psycopg2\n",
    "import psycopg2.extras\n",
    "\n",
    "hostname = 'localhost'\n",
    "database = 'postgres'\n",
    "username = 'postgres'\n",
    "pwd = 'hdr21008988'\n",
    "port_id = 5432\n",
    "conn = None\n",
    "\n",
    "try:\n",
    "    with psycopg2.connect(\n",
    "                host = hostname,\n",
    "                dbname = database,\n",
    "                user = username,\n",
    "                password = pwd,\n",
    "                port = port_id) as conn:\n",
    "\n",
    "        with conn.cursor(cursor_factory=psycopg2.extras.DictCursor) as cur:\n",
    "\n",
    "            cur.execute('DROP TABLE IF EXISTS employee')\n",
    "\n",
    "            create_script = ''' CREATE TABLE IF NOT EXISTS employee (\n",
    "                                    id      int PRIMARY KEY,\n",
    "                                    name    varchar(40) NOT NULL,\n",
    "                                    salary  int,\n",
    "                                    dept_id varchar(30)) '''\n",
    "            cur.execute(create_script)\n",
    "\n",
    "           \n",
    "except Exception as error:\n",
    "    print(error)\n",
    "finally:\n",
    "    if conn is not None:\n",
    "        conn.close()"
   ]
  },
  {
   "cell_type": "markdown",
   "id": "e1cb3b8e-fe1f-4f51-a1a1-e02734da99b3",
   "metadata": {},
   "source": [
    "## Insert data"
   ]
  },
  {
   "cell_type": "code",
   "execution_count": 6,
   "id": "0de5f6a7-6f7b-4c2b-a8be-852f8d0a65a7",
   "metadata": {},
   "outputs": [],
   "source": [
    "try:\n",
    "    with psycopg2.connect(\n",
    "                host = hostname,\n",
    "                dbname = database,\n",
    "                user = username,\n",
    "                password = pwd,\n",
    "                port = port_id) as conn:\n",
    "\n",
    "        with conn.cursor(cursor_factory=psycopg2.extras.DictCursor) as cur:\n",
    "\n",
    "\n",
    "            insert_script  = 'INSERT INTO employee (id, name, salary, dept_id) VALUES (%s, %s, %s, %s)'\n",
    "            insert_values = [(4, 'ashen', 40000, 'D4'), (5, 'will', 85000, 'D5'), (6, 'jessie', 200000, 'D6')]\n",
    "            for record in insert_values:\n",
    "                cur.execute(insert_script, record)\n",
    "\n",
    "    \n",
    "except Exception as error:\n",
    "    print(error)\n",
    "finally:\n",
    "    if conn is not None:\n",
    "        conn.close()"
   ]
  },
  {
   "cell_type": "markdown",
   "id": "e8f46198-1668-45fa-bad2-89e28e263fb0",
   "metadata": {},
   "source": [
    "## Update data"
   ]
  },
  {
   "cell_type": "code",
   "execution_count": null,
   "id": "68f88941-7f0d-4cf8-92f5-84937b4c0327",
   "metadata": {},
   "outputs": [],
   "source": [
    "try:\n",
    "    with psycopg2.connect(\n",
    "                host = hostname,\n",
    "                dbname = database,\n",
    "                user = username,\n",
    "                password = pwd,\n",
    "                port = port_id) as conn:\n",
    "\n",
    "        with conn.cursor(cursor_factory=psycopg2.extras.DictCursor) as cur:\n",
    "\n",
    "            \n",
    "            update_script = 'UPDATE employee SET salary = salary + (salary * 0.5)'\n",
    "            cur.execute(update_script)\n",
    "\n",
    "except Exception as error:\n",
    "    print(error)\n",
    "finally:\n",
    "    if conn is not None:\n",
    "        conn.close()"
   ]
  },
  {
   "cell_type": "markdown",
   "id": "af033d9b-86c3-4810-bbdb-15b79808320e",
   "metadata": {},
   "source": [
    "## Delete Data"
   ]
  },
  {
   "cell_type": "code",
   "execution_count": null,
   "id": "5167576b-ebe7-4346-bdad-4987241d1aef",
   "metadata": {},
   "outputs": [],
   "source": [
    "try:\n",
    "    with psycopg2.connect(\n",
    "                host = hostname,\n",
    "                dbname = database,\n",
    "                user = username,\n",
    "                password = pwd,\n",
    "                port = port_id) as conn:\n",
    "\n",
    "        with conn.cursor(cursor_factory=psycopg2.extras.DictCursor) as cur:\n",
    "\n",
    "            delete_script = 'DELETE FROM employee WHERE name = %s'\n",
    "            delete_record = ('James',)\n",
    "            cur.execute(delete_script, delete_record)\n",
    "\n",
    "except Exception as error:\n",
    "    print(error)\n",
    "finally:\n",
    "    if conn is not None:\n",
    "        conn.close()"
   ]
  },
  {
   "cell_type": "markdown",
   "id": "5d483384-344e-46f0-b7e2-fe935e313c61",
   "metadata": {},
   "source": [
    "## Retrieve data"
   ]
  },
  {
   "cell_type": "code",
   "execution_count": 7,
   "id": "652c02b2-edbd-4981-abce-0c953731fe14",
   "metadata": {},
   "outputs": [
    {
     "name": "stdout",
     "output_type": "stream",
     "text": [
      "Robin 22500\n",
      "Xavier 30000\n",
      "ashen 40000\n",
      "will 85000\n",
      "jessie 200000\n"
     ]
    }
   ],
   "source": [
    "try:\n",
    "    with psycopg2.connect(\n",
    "                host = hostname,\n",
    "                dbname = database,\n",
    "                user = username,\n",
    "                password = pwd,\n",
    "                port = port_id) as conn:\n",
    "\n",
    "        with conn.cursor(cursor_factory=psycopg2.extras.DictCursor) as cur:\n",
    "\n",
    "            cur.execute('SELECT * FROM EMPLOYEE')\n",
    "            for record in cur.fetchall():\n",
    "                print(record['name'], record['salary'])\n",
    "except Exception as error:\n",
    "    print(error)\n",
    "finally:\n",
    "    if conn is not None:\n",
    "        conn.close()"
   ]
  },
  {
   "cell_type": "code",
   "execution_count": null,
   "id": "f8ad51ae-f686-4e49-9a44-26f872a65a3f",
   "metadata": {},
   "outputs": [],
   "source": []
  }
 ],
 "metadata": {
  "kernelspec": {
   "display_name": "Python 3 (ipykernel)",
   "language": "python",
   "name": "python3"
  },
  "language_info": {
   "codemirror_mode": {
    "name": "ipython",
    "version": 3
   },
   "file_extension": ".py",
   "mimetype": "text/x-python",
   "name": "python",
   "nbconvert_exporter": "python",
   "pygments_lexer": "ipython3",
   "version": "3.9.12"
  }
 },
 "nbformat": 4,
 "nbformat_minor": 5
}
